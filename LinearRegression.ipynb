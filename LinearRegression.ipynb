{
 "cells": [
  {
   "cell_type": "code",
   "execution_count": 36,
   "metadata": {},
   "outputs": [
    {
     "name": "stdout",
     "output_type": "stream",
     "text": [
      "0.837873232526341\n",
      "[ 3.39377399  2.6989512   6.26719552  4.45927234  3.09515767  6.10530086\n",
      "  5.02381586  6.33818102  3.84247394  2.13452698  2.91727635 13.00234766\n",
      "  2.94507404  6.13572322  2.833764    2.52202431  3.69835548  2.22460102\n",
      "  3.77494824  4.53992141  3.48802365 20.28701109  2.65409313  3.65146926\n",
      "  2.74333205 18.70624151 11.40845471  9.17628876 11.82363042 22.59314512\n",
      "  2.37050903  3.96559502  7.13763287  3.13333475  5.90033768  5.56903223\n",
      "  5.7629002   2.79272364 11.41799898  3.68403908  2.55483273  4.31527318\n",
      " 10.07225703  2.99243747  5.43934948  4.56652606  2.1531383   3.02548451\n",
      " 10.06271276  2.71553436  5.09993141  2.43648379  4.96118159  5.17497322\n",
      "  3.65946258  3.69060076  3.58955081  2.83257096  7.21160096  7.38268198\n",
      "  6.63321825  2.28329828 21.49078204 13.88996469 18.72294398  4.71577457\n",
      "  6.0005525   8.3161115   2.66518834 20.37171648  8.19680814  4.85452438\n",
      "  3.2698178   4.72496093  2.10147995  3.91608412  5.09802255  2.11293307\n",
      "  8.36144678  2.19787707  2.93934748  2.29415488  3.68678305  7.75860688\n",
      "  3.87790704  6.26552528  7.05650658  3.26480705  2.69024205  2.14025354\n",
      "  2.91369725  5.21493985  3.10816174  2.43373982  5.99852435 12.08371175\n",
      "  2.59062374]\n"
     ]
    },
    {
     "data": {
      "image/png": "[encoded data removed]",
      "text/plain": [
       "<matplotlib.figure.Figure at 0x7f6196109eb8>"
      ]
     },
     "metadata": {},
     "output_type": "display_data"
    },
    {
     "name": "stdout",
     "output_type": "stream",
     "text": [
      "Sum squared error :   2914.8470516572247\n",
      "SST value is :  2914.8470516572247\n",
      " R square value :  0.7020315537841402\n"
     ]
    }
   ],
   "source": [
    "import pandas as pd\n",
    "import statistics as st\n",
    "import matplotlib.pyplot as plt\n",
    "import numpy as np\n",
    "header = [\"X\",\"Y\"]\n",
    "data = pd.read_csv(\"Food-Truck-LineReg(1).csv\",names=header)\n",
    "data.head()\n",
    "class LR():\n",
    "    def __init__(self,data):\n",
    "        self.x = np.array(data[\"X\"])\n",
    "        self.y = np.array(data[\"Y\"])\n",
    "    def train(self):\n",
    "        self.m_x = np.mean(self.x)\n",
    "        self.m_y = np.mean(self.y)\n",
    "        s_x = st.stdev(self.x)\n",
    "        s_y = st.stdev(self.y)\n",
    "        r  = np.corrcoef(self.x,self.y)\n",
    "        print(r[0][1])\n",
    "        m = r[0][1]*(s_y/s_x)\n",
    "        c = self.m_y - m * self.m_x\n",
    "        self.y_pred = m*self.x + c\n",
    "        print(self.y_pred)\n",
    "    def plot(self):\n",
    "        plt.scatter(self.x, self.y, color = \"g\",s = 10) \n",
    "        plt.plot(self.x, self.y_pred, color = \"r\") \n",
    "        plt.xlabel('x') \n",
    "        plt.ylabel('y') \n",
    "        plt.show()\n",
    "    def error(self):\n",
    "        er = (self.y - self.m_y)**2\n",
    "        sst = sum(er)\n",
    "        print(\"Sum squared error :  \",sst)\n",
    "        \n",
    "        er1 = (self.y_pred - self.m_y)**2\n",
    "        ssr = sum(er1)\n",
    "        print(\"SST value is : \",sst)\n",
    "        r = ssr/sst\n",
    "        print(\" R square value : \",r)\n",
    "        \n",
    "    \n",
    "    \n",
    "m = LR(data)\n",
    "m.train()\n",
    "m.plot()\n",
    "m.error()\n",
    "\n",
    "        \n",
    "    "
   ]
  },
  {
   "cell_type": "code",
   "execution_count": null,
   "metadata": {},
   "outputs": [],
   "source": []
  }
 ],
 "metadata": {
  "kernelspec": {
   "display_name": "Python 3",
   "language": "python",
   "name": "python3"
  },
  "language_info": {
   "codemirror_mode": {
    "name": "ipython",
    "version": 3
   },
   "file_extension": ".py",
   "mimetype": "text/x-python",
   "name": "python",
   "nbconvert_exporter": "python",
   "pygments_lexer": "ipython3",
   "version": "3.6.9"
  }
 },
 "nbformat": 4,
 "nbformat_minor": 2
}
