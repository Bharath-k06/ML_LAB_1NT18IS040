{
  "nbformat": 4,
  "nbformat_minor": 0,
  "metadata": {
    "colab": {
      "name": "Untitled8.ipynb",
      "provenance": [],
      "collapsed_sections": [],
      "toc_visible": true
    },
    "kernelspec": {
      "name": "python3",
      "display_name": "Python 3"
    },
    "language_info": {
      "name": "python"
    }
  },
  "cells": [
    {
      "cell_type": "code",
      "source": [
        "arr = [34,45,23,34,45,45,22]\n",
        "\n",
        "\n",
        "# Mean , Mode ,Standard deviation , Median , Normalisaton ,varience\n",
        "\n",
        "\n",
        "def m_mean(arr):\n",
        "  sum = 0\n",
        "  for i in arr:\n",
        "    sum=sum+i\n",
        "  m = sum/len(arr)\n",
        "  return m\n",
        "def m_median(arr):\n",
        "  if(len(arr)%2 == 0):\n",
        "    return (arr[len(arr)//2]+arr[(len(arr)//2)-1])/2\n",
        "  else:\n",
        "    return arr[len(arr)//2]\n",
        "print(m_median(arr))\n",
        "\n",
        "def m_mode(arr):\n",
        "  f = [0]*max(arr)\n",
        "  for i in arr:\n",
        "    f[i-1]+=1\n",
        "  return f.index(max(f))+1\n",
        "print(m_mode(arr))\n",
        "\n",
        "def sd_var(arr):\n",
        "  sum = 0\n",
        "  m = m_mean(arr)\n",
        "  for i in arr:\n",
        "    sum = sum +((i - m)**2)\n",
        "  var = sum/len(arr)\n",
        "  import math\n",
        "  std = math.sqrt(var)\n",
        "  #print(\"SD : \",std)\n",
        "  #print(\"VAR : \",var)\n",
        "  arr = []\n",
        "  arr.append(var)\n",
        "  arr.append(std)\n",
        "  return arr\n",
        "\n",
        "var = sd_var(arr)\n",
        "print(\"Varience : \",var[0])\n",
        "print(\"Sd : \",var[1])\n",
        "def std_nr(arr):\n",
        "  sd = sd_var(arr)\n",
        "  m = m_mean(arr)\n",
        "  Arr =arr\n",
        "  for i in range(0,len(arr)):\n",
        "    Arr[i] = (Arr[i] - m )/sd[1]\n",
        "  print(\"Standardisation : \",arr)\n",
        "  mi = min(arr)\n",
        "  ma = max(arr)\n",
        "  S_arr = arr\n",
        "  for i in range(0,len(S_arr)):\n",
        "    S_arr[i] = (S_arr[i] - mi) / (ma - mi)\n",
        "  print(\"Normalisation : \",S_arr)\n",
        "std_nr(arr)\n"
      ],
      "metadata": {
        "id": "clXFi0glA8Ha",
        "colab": {
          "base_uri": "https://localhost:8080/"
        },
        "outputId": "40d01112-41a8-40cb-f5d7-e3e18828b32d"
      },
      "execution_count": 14,
      "outputs": [
        {
          "output_type": "stream",
          "name": "stdout",
          "text": [
            "34\n",
            "45\n",
            "Varience :  87.6734693877551\n",
            "Sd :  9.363411204670822\n",
            "Standardisation :  [-0.1525695494243386, 1.0222159811430669, -1.327355079991744, -0.1525695494243386, 1.0222159811430669, 1.0222159811430669, -1.4341537645887807]\n",
            "Normalisation :  [0.5217391304347826, 1.0, 0.043478260869565195, 0.5217391304347826, 1.0, 1.0, 0.0]\n"
          ]
        }
      ]
    }
  ]
}