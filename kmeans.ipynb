{
 "cells": [
  {
   "cell_type": "code",
   "execution_count": 19,
   "metadata": {},
   "outputs": [
    {
     "name": "stdout",
     "output_type": "stream",
     "text": [
      "[0. 0. 0. 0. 0. 0. 0. 0. 0. 0.]\n"
     ]
    }
   ],
   "source": [
    "import pandas as pd\n",
    "import numpy as np\n",
    "from copy import deepcopy\n",
    "\n",
    "def euclidean(a,b, ax=1):\n",
    "    return np.linalg.norm(a-b, axis=ax)\n",
    "\n",
    "\n",
    "def main():\n",
    "    k=3\n",
    "    data=pd.read_csv(\"numbers.csv\")\n",
    "    #print(data)\n",
    "    x1 = data['x1'].values\n",
    "    x2 = data['x2'].values\n",
    "    X = np.array(list(zip(x1, x2)))\n",
    "    #print(X)\n",
    "    C_x  = [6.2, 6.6 ,6.5]\n",
    "    C_y = [3.2, 3.7, 3.0]\n",
    "    Centroid = np.array(list(zip(C_x, C_y)), dtype=np.float32)\n",
    "    #print(\"Intitial centroids \")\n",
    "    #print(Centroid,\"\\n\")\n",
    "    Centroid_old = np.zeros(Centroid.shape)\n",
    "    #print(Centroid_old)\n",
    "    clusters = np.zeros(len(X))\n",
    "    print(clusters)\n",
    "    error = euclidean(Centroid, Centroid_old, None)\n",
    "    #print(error)\n",
    "     iterr = 0\n",
    "    # Loop will run till the error becomes zero\n",
    "    while error != 0:\n",
    "        # Assigning each value to its closest cluster\n",
    "        iterr = iterr + 1\n",
    "        for i in range(len(X)):\n",
    "            #print(X[i])\n",
    "            distances = euclidean(X[i], Centroid)\n",
    "            #print(distances)\n",
    "            cluster = np.argmin(distances)\n",
    "            clusters[i] = cluster\n",
    "\n",
    "        Centroid_old = deepcopy(Centroid)\n",
    "        \n",
    "        # Finding the new centroids by taking the Mean\n",
    "        for p in range(k):\n",
    "            points = [X[j] for j in range(len(X)) if clusters[j] == p]\n",
    "            Centroid[p] = np.mean(points, axis=0)\n",
    "        print(\" Centre of the clusters after \", iterr,\" Iteration \\n\", Centroid)\n",
    "        error = euclidean(Centroid, Centroid_old, None)\n",
    "        print(\"Error  ... \",error)  \n",
    "\n",
    "if __name__ == \"__main__\": \n",
    "    main()"
   ]
  },
  {
   "cell_type": "code",
   "execution_count": 3,
   "metadata": {},
   "outputs": [],
   "source": [
    "import math \n",
    "cluster1=[]\n",
    "cluster2=[]\n",
    "cluster3=[]  v\n",
    "cl1=[6.2,3.2]\n",
    "cl2=[6.6,3.7]\n",
    "cl3=[6.5,3.0]\n",
    "def euc(a,b):\n",
    "    d1=math.sqrt((cl1[0]-a)**2 + (cl1[1]-b)**2)\n",
    "    d2=math.sqrt((cl2[0]-a)**2 + (cl2[1]-b)**2)\n",
    "    d3=math.sqrt((cl3[0]-a)**2 + (cl3[1]-b)**2)\n",
    "    md=min(d1,d2,d3)\n",
    "    if(md==d1):\n",
    "        cluster1.append([a,b])\n",
    "    elif(md==d2):\n",
    "        cluster2.append([a,b])\n",
    "    else:\n",
    "        cluster3.append([a,b])"
   ]
  },
  {
   "cell_type": "code",
   "execution_count": 4,
   "metadata": {},
   "outputs": [
    {
     "name": "stdout",
     "output_type": "stream",
     "text": [
      "cluster1 :  [[5.9, 3.2], [4.6, 2.9], [4.7, 3.2], [5.0, 3.0], [4.9, 3.1], [5.1, 3.8], [6.0, 3.0]]\n",
      "cluster2 :  [[5.5, 4.2]]\n",
      "cluster3 :  [[6.2, 2.8], [6.7, 3.1]]\n"
     ]
    }
   ],
   "source": [
    "for i in range(0,10):\n",
    "    euc(data['x1'][i],data['x2'][i])\n",
    "    \n",
    "print(\"cluster1 : \",cluster1)\n",
    "print(\"cluster2 : \",cluster2)\n",
    "print(\"cluster3 : \",cluster3)\n"
   ]
  },
  {
   "cell_type": "code",
   "execution_count": null,
   "metadata": {},
   "outputs": [],
   "source": []
  }
 ],
 "metadata": {
  "kernelspec": {
   "display_name": "Python 3",
   "language": "python",
   "name": "python3"
  },
  "language_info": {
   "codemirror_mode": {
    "name": "ipython",
    "version": 3
   },
   "file_extension": ".py",
   "mimetype": "text/x-python",
   "name": "python",
   "nbconvert_exporter": "python",
   "pygments_lexer": "ipython3",
   "version": "3.8.5"
  }
 },
 "nbformat": 4,
 "nbformat_minor": 4
}
